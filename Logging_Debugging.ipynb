{
 "cells": [
  {
   "cell_type": "code",
   "execution_count": 2,
   "id": "327d5641-9399-4c0b-bb82-77ecec67aacd",
   "metadata": {},
   "outputs": [
    {
     "name": "stdout",
     "output_type": "stream",
     "text": [
      "this is a file\n"
     ]
    }
   ],
   "source": [
    "print(\"this is a file\")"
   ]
  },
  {
   "cell_type": "code",
   "execution_count": 3,
   "id": "90daad5b-5681-4e81-8dcd-e8543540a551",
   "metadata": {},
   "outputs": [],
   "source": [
    "#Creating a log file\n",
    "import logging \n",
    "logging.basicConfig(filename = \"test.log\",level = logging.INFO)"
   ]
  },
  {
   "cell_type": "code",
   "execution_count": 13,
   "id": "10969eb1-8e56-426c-abdf-07f36e60d0b9",
   "metadata": {},
   "outputs": [],
   "source": [
    "#Level\n",
    "#1. NOTSET\n",
    "#2. DEBUG\n",
    "#3. INFO\n",
    "#4. WARNING\n",
    "#5. ERRROR\n",
    "#6. CRITICAL"
   ]
  },
  {
   "cell_type": "code",
   "execution_count": 4,
   "id": "612840ae-9372-4a14-87ac-b034bf55cae9",
   "metadata": {},
   "outputs": [],
   "source": [
    "#Example-1\n",
    "#inserting data into file\n",
    "logging.info(\"log this line of execution\")"
   ]
  },
  {
   "cell_type": "code",
   "execution_count": 8,
   "id": "189b5703-7df7-4291-9cf1-fb6f2b73b588",
   "metadata": {},
   "outputs": [],
   "source": [
    "logging.warning(\"this is my msg\")"
   ]
  },
  {
   "cell_type": "code",
   "execution_count": 9,
   "id": "992db196-83bc-48e1-9a43-39187ea0c315",
   "metadata": {},
   "outputs": [],
   "source": [
    "logging.error(\"this is my error\")"
   ]
  },
  {
   "cell_type": "code",
   "execution_count": 19,
   "id": "bdc36926-0595-4963-b4d7-905533ef1d63",
   "metadata": {},
   "outputs": [],
   "source": [
    "logging.critical(\"this is my critical msg\")"
   ]
  },
  {
   "cell_type": "code",
   "execution_count": 20,
   "id": "0bfb4b32-fb34-445d-ad3c-1b1447ea9188",
   "metadata": {},
   "outputs": [],
   "source": [
    "logging.shutdown()"
   ]
  },
  {
   "cell_type": "code",
   "execution_count": 3,
   "id": "1596c2b5-9348-4d61-b6ea-b167234a8b55",
   "metadata": {},
   "outputs": [],
   "source": [
    "#Example-2\n",
    "import logging\n",
    "logging.basicConfig(filename = \"test1.log\",level = logging.DEBUG, format = '%(asctime)s %(message)s')\n",
    "logging.info(\"this is my info login\")\n",
    "logging.error(\"this is my error msg\")\n",
    "logging.critical(\"this is my critical msg\")\n",
    "logging.shutdown()"
   ]
  },
  {
   "cell_type": "code",
   "execution_count": 3,
   "id": "1f2dedc1-4c91-4ed0-adc6-99f28c137234",
   "metadata": {},
   "outputs": [],
   "source": [
    "#Example-3\n",
    "import logging\n",
    "logging.basicConfig(filename = \"test2.log\",level = logging.DEBUG,format = \"%(asctime)s %(name)s %(levelname)s %(message)s\")\n",
    "logging.info(\"this is my info login\")\n",
    "logging.error(\"this is my error msg\")\n",
    "logging.critical(\"this is my critical msg\")"
   ]
  },
  {
   "cell_type": "code",
   "execution_count": 19,
   "id": "64dcd652-930b-4afa-a9bb-1ad609358f81",
   "metadata": {},
   "outputs": [],
   "source": [
    "l = [1,2,3,4,5,6,7,\"Ishaan\",\"Pandey\"]\n",
    "logging.info(\"We are filtering out elements with integer datatypes \\n\"+str(l))\n",
    "l1 = list(filter(lambda x: type(x) == int ,l))\n",
    "logging.info(\"We are filtering out elements with string datatypes {}\".format(l ))\n",
    "l2 = list(filter(lambda x: type(x) == str ,l))\n",
    "logging.info(\"My final result is {} and {}\".format(l1,l2))\n",
    "logging.shutdown()"
   ]
  },
  {
   "cell_type": "code",
   "execution_count": null,
   "id": "9d531900-a2f2-4529-9a7f-d92ae1d51690",
   "metadata": {},
   "outputs": [],
   "source": []
  }
 ],
 "metadata": {
  "kernelspec": {
   "display_name": "Python 3 (ipykernel)",
   "language": "python",
   "name": "python3"
  },
  "language_info": {
   "codemirror_mode": {
    "name": "ipython",
    "version": 3
   },
   "file_extension": ".py",
   "mimetype": "text/x-python",
   "name": "python",
   "nbconvert_exporter": "python",
   "pygments_lexer": "ipython3",
   "version": "3.10.8"
  }
 },
 "nbformat": 4,
 "nbformat_minor": 5
}
