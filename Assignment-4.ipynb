{
 "cells": [
  {
   "cell_type": "code",
   "execution_count": 1,
   "id": "127ce742-d6b7-41f1-9f67-28ca713a29a3",
   "metadata": {},
   "outputs": [
    {
     "name": "stdout",
     "output_type": "stream",
     "text": [
      "Welcome to PwSkills\n",
      "None\n",
      "Welcome to PwSkills\n",
      "None\n"
     ]
    }
   ],
   "source": [
    "#class is a classification whereas obejct is a real world entity\n",
    "class pwskills:                             #pwskills is a class\n",
    "    def welcome_msg(self):                  #welcome_msg is a object\n",
    "        print(\"Welcome to PwSkills\")\n",
    "rohan = pwskills() \n",
    "print(rohan.welcome_msg())                  #rohan is a variable\n",
    "gaurav = pwskills()\n",
    "print(gaurav.welcome_msg())"
   ]
  },
  {
   "cell_type": "code",
   "execution_count": 2,
   "id": "72f31f5d-4498-4f5b-8309-0bb36e9ababf",
   "metadata": {},
   "outputs": [],
   "source": [
    "#4 pillar of Oops are abstraction, encapsulation, inheritance, and polymorphism"
   ]
  },
  {
   "cell_type": "code",
   "execution_count": 3,
   "id": "e942838d-490f-496f-993c-9bc8bea03d76",
   "metadata": {},
   "outputs": [
    {
     "name": "stdout",
     "output_type": "stream",
     "text": [
      "(123456789, 'rohan@gmail.com', 101)\n"
     ]
    }
   ],
   "source": [
    "#__init__ is used to initialise a value for a object in a class\n",
    "class pwskills1:\n",
    "    def __init__(self,phone_number,email_id,student_id):                     #__init__ is a constructor\n",
    "        self.phone_number = phone_number                                     #Self is not a reserve keyword but a pointer\n",
    "        self.email_id = email_id\n",
    "        self.student_id = student_id\n",
    "    \n",
    "    def return_student_details(self):\n",
    "        return self.phone_number,self.email_id,self.student_id\n",
    "\n",
    "rohan = pwskills1(123456789,\"rohan@gmail.com\",101)\n",
    "print(rohan.return_student_details())"
   ]
  },
  {
   "cell_type": "code",
   "execution_count": 4,
   "id": "08829f64-a591-4b79-92a9-a5aca391a736",
   "metadata": {},
   "outputs": [],
   "source": [
    "#Self is used a a pointer in a class"
   ]
  },
  {
   "cell_type": "code",
   "execution_count": null,
   "id": "2533303d-67e1-4569-a9f4-f0c78a2ad603",
   "metadata": {},
   "outputs": [],
   "source": [
    "#Inheritance is a feature in which a existing class is used to create new classses"
   ]
  }
 ],
 "metadata": {
  "kernelspec": {
   "display_name": "Python 3 (ipykernel)",
   "language": "python",
   "name": "python3"
  },
  "language_info": {
   "codemirror_mode": {
    "name": "ipython",
    "version": 3
   },
   "file_extension": ".py",
   "mimetype": "text/x-python",
   "name": "python",
   "nbconvert_exporter": "python",
   "pygments_lexer": "ipython3",
   "version": "3.10.8"
  }
 },
 "nbformat": 4,
 "nbformat_minor": 5
}
