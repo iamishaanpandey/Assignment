{
 "cells": [
  {
   "cell_type": "code",
   "execution_count": 2,
   "id": "a561e462-e5ab-4008-98b7-7d8698ab11b6",
   "metadata": {},
   "outputs": [],
   "source": [
    "#open is used to open a new file in python \n",
    "#File can be opened in multiple types such as\n",
    "    #1) w - writing into a new file\n",
    "    #2) r - reading contents from a existing file\n",
    "    #3) a - appending a previous file without deleting the previous data\n",
    "#f = open(\"text.txt\",\"w\")\n",
    "#f = open(\"text.txt\",\"r\")\n",
    "#f = open(\"text.txt\",\"a\")"
   ]
  },
  {
   "cell_type": "code",
   "execution_count": 3,
   "id": "cbdb917a-3a89-4dbd-84d8-e311d707634d",
   "metadata": {},
   "outputs": [],
   "source": [
    "#f.close() is used to save all the data given as input into the created file "
   ]
  },
  {
   "cell_type": "code",
   "execution_count": 8,
   "id": "cab324f3-e445-4255-8060-ff3c23ed058d",
   "metadata": {},
   "outputs": [],
   "source": [
    "f = open(\"text.txt\",\"w\")\n",
    "f.write(\"I want to become a Data Scientist\")\n",
    "f.close()"
   ]
  },
  {
   "cell_type": "code",
   "execution_count": 7,
   "id": "c2592767-e62e-45cf-a0c1-0e6d71e0ff84",
   "metadata": {},
   "outputs": [
    {
     "name": "stdout",
     "output_type": "stream",
     "text": [
      "I want to become a Data Scientist\n"
     ]
    }
   ],
   "source": [
    "with open(\"text.txt\",\"r\") as f:\n",
    "    print(f.read())"
   ]
  },
  {
   "cell_type": "code",
   "execution_count": 9,
   "id": "f8c82084-d8c2-4211-aaf4-c76dadd8154a",
   "metadata": {},
   "outputs": [],
   "source": [
    "#read() = reads the content of the file\n",
    "#readline() = reads single line at a time from a file\n",
    "#readlines() = reads multiple lines from the file as per instructions "
   ]
  },
  {
   "cell_type": "code",
   "execution_count": 11,
   "id": "cade7a48-4621-4799-b3d9-c1e218b53396",
   "metadata": {},
   "outputs": [],
   "source": [
    "#with open() shortens the code and allows us perform multiple operations on a file in a single mode "
   ]
  },
  {
   "cell_type": "code",
   "execution_count": 13,
   "id": "78f40e83-939f-4901-9111-905cce64c9a5",
   "metadata": {},
   "outputs": [],
   "source": [
    "#write() and writelines() is used to write whole content as a single input or as multiple lines input respectively \n",
    "f = open(\"text1.txt\",\"w\")\n",
    "f.write(\"I want to become a Data Scientist\")\n",
    "f.writelines(\"Lorem Ipsum is simply dummy text of the printing and typesetting industry. Lorem Ipsum has been the industry's standard dummy text ever since the 1500s, when an unknown printer took a galley of type and scrambled it to make a type specimen book. It has survived not only five centuries, but also the leap into electronic typesetting, remaining essentially unchanged. It was popularised in the 1960s with the release of Letraset sheets containing Lorem Ipsum passages, and more recently with desktop publishing software like Aldus PageMaker including versions of Lorem Ipsum.\")\n",
    "f.close()"
   ]
  },
  {
   "cell_type": "code",
   "execution_count": null,
   "id": "f20fd036-715b-46c9-9b62-43230c8c4f6a",
   "metadata": {},
   "outputs": [],
   "source": []
  }
 ],
 "metadata": {
  "kernelspec": {
   "display_name": "Python 3 (ipykernel)",
   "language": "python",
   "name": "python3"
  },
  "language_info": {
   "codemirror_mode": {
    "name": "ipython",
    "version": 3
   },
   "file_extension": ".py",
   "mimetype": "text/x-python",
   "name": "python",
   "nbconvert_exporter": "python",
   "pygments_lexer": "ipython3",
   "version": "3.10.8"
  }
 },
 "nbformat": 4,
 "nbformat_minor": 5
}
