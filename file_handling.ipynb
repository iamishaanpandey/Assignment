{
 "cells": [
  {
   "cell_type": "code",
   "execution_count": 1,
   "id": "8f387bdc-d899-4b95-80c8-6c3b687a90f0",
   "metadata": {},
   "outputs": [
    {
     "data": {
      "text/plain": [
       "21"
      ]
     },
     "execution_count": 4,
     "metadata": {},
     "output_type": "execute_result"
    }
   ],
   "source": [
    "#Opening and writing into a file using \"w\" command\n",
    "f = open(\"text.txt\",\"w\")\n",
    "f.write(\"This is my first file\")\n",
    "f.close()"
   ]
  },
  {
   "cell_type": "code",
   "execution_count": 6,
   "id": "b6922c12-e428-442b-8e75-8fe13855bb47",
   "metadata": {},
   "outputs": [
    {
     "data": {
      "text/plain": [
       "'This is my first file'"
      ]
     },
     "execution_count": 6,
     "metadata": {},
     "output_type": "execute_result"
    }
   ],
   "source": [
    "#Opening and reading the contents of the file\n",
    "f  = open(\"text.txt\",\"r\")\n",
    "f.read()\n",
    "f.close()"
   ]
  },
  {
   "cell_type": "code",
   "execution_count": 20,
   "id": "0e8b77d9-d077-4a51-be7d-dd592184d89f",
   "metadata": {},
   "outputs": [],
   "source": [
    "#Opening and appending the file using \"a\" command which preserves the previous information\"\n",
    "f= open(\"text.txt\",\"a\")\n",
    "f.write(\". This file will be uploaded on the github profile. Lorem Ipsum is simply dummy text of the printing and typesetting industry. Lorem Ipsum has been the industry's standard dummy text ever since the 1500s, when an unknown printer took a galley of type and scrambled it to make a type specimen book. It has survived not only five centuries, but also the leap into electronic typesetting, remaining essentially unchanged. It was popularised in the 1960s with the release of Letraset sheets containing Lorem Ipsum passages, and more recently with desktop publishing software like Aldus PageMaker including versions of Lorem Ipsum.\")\n",
    "f.close()"
   ]
  },
  {
   "cell_type": "code",
   "execution_count": 21,
   "id": "5240c938-0622-4fe2-898f-d0c10e4b9526",
   "metadata": {},
   "outputs": [
    {
     "data": {
      "text/plain": [
       "\"This is my first. This file will be uploaded on the github profile. This file will be uploaded on the github profile. Lorem Ipsum is simply dummy text of the printing and typesetting industry. Lorem Ipsum has been the industry's standard dummy text ever since the 1500s, when an unknown printer took a galley of type and scrambled it to make a type specimen book. It has survived not only five centuries, but also the leap into electronic typesetting, remaining essentially unchanged. It was popularised in the 1960s with the release of Letraset sheets containing Lorem Ipsum passages, and more recently with desktop publishing software like Aldus PageMaker including versions of Lorem Ipsum.\""
      ]
     },
     "execution_count": 21,
     "metadata": {},
     "output_type": "execute_result"
    }
   ],
   "source": [
    "f  = open(\"text.txt\",\"r\")\n",
    "f.read()"
   ]
  },
  {
   "cell_type": "code",
   "execution_count": 24,
   "id": "a1e9f525-1dae-431c-9a92-a9ce707f34ad",
   "metadata": {},
   "outputs": [
    {
     "data": {
      "text/plain": [
       "\"This is my first. This file will be uploaded on the github profile. This file will be uploaded on the github profile. Lorem Ipsum is simply dummy text of the printing and typesetting industry. Lorem Ipsum has been the industry's standard dummy text ever since the 1500s, when an unknown printer took a galley of type and scrambled it to make a type specimen book. It has survived not only five centuries, but also the leap into electronic typesetting, remaining essentially unchanged. It was popularised in the 1960s with the release of Letraset sheets containing Lorem Ipsum passages, and more recently with desktop publishing software like Aldus PageMaker including versions of Lorem Ipsum.\""
      ]
     },
     "execution_count": 24,
     "metadata": {},
     "output_type": "execute_result"
    }
   ],
   "source": [
    "f.seek(0)\n",
    "f.readline()"
   ]
  },
  {
   "cell_type": "code",
   "execution_count": 28,
   "id": "19abf28c-29a3-475a-a86f-4855eac3f059",
   "metadata": {},
   "outputs": [
    {
     "name": "stdout",
     "output_type": "stream",
     "text": [
      "This is my first. This file will be uploaded on the github profile. This file will be uploaded on the github profile. Lorem Ipsum is simply dummy text of the printing and typesetting industry. Lorem Ipsum has been the industry's standard dummy text ever since the 1500s, when an unknown printer took a galley of type and scrambled it to make a type specimen book. It has survived not only five centuries, but also the leap into electronic typesetting, remaining essentially unchanged. It was popularised in the 1960s with the release of Letraset sheets containing Lorem Ipsum passages, and more recently with desktop publishing software like Aldus PageMaker including versions of Lorem Ipsum.\n"
     ]
    }
   ],
   "source": [
    "#reading the data index wise\n",
    "f  = open(\"text.txt\",\"r\")\n",
    "for i in f:\n",
    "    print (i)"
   ]
  },
  {
   "cell_type": "code",
   "execution_count": 30,
   "id": "c941314a-72ba-467a-859c-3da2f528e6bf",
   "metadata": {},
   "outputs": [
    {
     "data": {
      "text/plain": [
       "692"
      ]
     },
     "execution_count": 30,
     "metadata": {},
     "output_type": "execute_result"
    }
   ],
   "source": [
    "#getting the size of the file\n",
    "import os\n",
    "os.path.getsize(\"text.txt\")\n",
    "os.remove(\"text.txt\")"
   ]
  },
  {
   "cell_type": "code",
   "execution_count": 35,
   "id": "93448ba1-1a8d-4a20-b754-96e9a3ebc41b",
   "metadata": {},
   "outputs": [],
   "source": [
    "f = open(\"text1.txt\",'w')\n",
    "f.write(\"Lorem Ipsum is simply dummy text of the printing and typesetting industry. Lorem Ipsum has been the industry's standard dummy text ever since the 1500s, when an unknown printer took a galley of type and scrambled it to make a type specimen book. It has survived not only five centuries, but also the leap into electronic typesetting, remaining essentially unchanged. It was popularised in the 1960s with the release of Letraset sheets containing Lorem Ipsum passages, and more recently with desktop publishing software like Aldus PageMaker including versions of Lorem Ipsum.\")\n",
    "f.close()"
   ]
  },
  {
   "cell_type": "code",
   "execution_count": 36,
   "id": "468dafb9-13b1-4fe8-b8c9-73796f9abb2b",
   "metadata": {},
   "outputs": [],
   "source": [
    "#Renaming a file \n",
    "import os\n",
    "os.rename(\"text1.txt\",\"newtext.txt\")"
   ]
  },
  {
   "cell_type": "code",
   "execution_count": 37,
   "id": "61c65fab-a83d-418c-9a49-38c319221e2c",
   "metadata": {},
   "outputs": [
    {
     "data": {
      "text/plain": [
       "'new__text.txt'"
      ]
     },
     "execution_count": 37,
     "metadata": {},
     "output_type": "execute_result"
    }
   ],
   "source": [
    "#Making a copy of a file using SH-Util module\n",
    "import shutil \n",
    "shutil.copy(\"newtext.txt\",\"new__text.txt\")"
   ]
  },
  {
   "cell_type": "code",
   "execution_count": 39,
   "id": "2e6ba6ed-b3f6-4087-9e00-ff0e86b84cf4",
   "metadata": {},
   "outputs": [
    {
     "name": "stdout",
     "output_type": "stream",
     "text": [
      "Lorem Ipsum is simply dummy text of the printing and typesetting industry. Lorem Ipsum has been the industry's standard dummy text ever since the 1500s, when an unknown printer took a galley of type and scrambled it to make a type specimen book. It has survived not only five centuries, but also the leap into electronic typesetting, remaining essentially unchanged. It was popularised in the 1960s with the release of Letraset sheets containing Lorem Ipsum passages, and more recently with desktop publishing software like Aldus PageMaker including versions of Lorem Ipsum.\n"
     ]
    }
   ],
   "source": [
    "with open(\"newtext.txt\",\"r\") as f:\n",
    "    print(f.read())"
   ]
  },
  {
   "cell_type": "code",
   "execution_count": 41,
   "id": "0a965f52-eb1e-45a4-8faa-43d6b79f9b01",
   "metadata": {},
   "outputs": [],
   "source": [
    "#New File-type = JSON\n",
    "data = {\n",
    "    \"name\":\"Ishaan\",\n",
    "    \"mail_id\":\"Ishaan@gmail.com\",\n",
    "    \"phone_num\":123456789,\n",
    "    \"sub_list\":[\"Sub1\",\"Sub2\",\"Sub3\"]\n",
    "}"
   ]
  },
  {
   "cell_type": "code",
   "execution_count": 42,
   "id": "2b3680c8-19b4-45be-9357-db93bc75dcda",
   "metadata": {},
   "outputs": [],
   "source": [
    "import json"
   ]
  },
  {
   "cell_type": "code",
   "execution_count": 43,
   "id": "a372d6b5-a04a-4a67-ba61-fe4da6f8a841",
   "metadata": {},
   "outputs": [],
   "source": [
    "#Inserting data into Json file using dump \n",
    "with open(\"data.json\",\"w\") as f:\n",
    "    json.dump(data,f)"
   ]
  },
  {
   "cell_type": "code",
   "execution_count": 50,
   "id": "482ca8f6-40a4-484d-8ea4-c2412037c1cc",
   "metadata": {},
   "outputs": [],
   "source": [
    "#Reading from a Json file using Load\n",
    "with open(\"data.json\",\"r\") as f:\n",
    "    data1 = json.load(f)"
   ]
  },
  {
   "cell_type": "code",
   "execution_count": 52,
   "id": "f0cdd74d-02a5-4613-ae54-5c9cb199175b",
   "metadata": {},
   "outputs": [
    {
     "data": {
      "text/plain": [
       "{'name': 'Ishaan',\n",
       " 'mail_id': 'Ishaan@gmail.com',\n",
       " 'phone_num': 123456789,\n",
       " 'sub_list': ['Sub1', 'Sub2', 'Sub3']}"
      ]
     },
     "execution_count": 52,
     "metadata": {},
     "output_type": "execute_result"
    }
   ],
   "source": [
    "data1"
   ]
  },
  {
   "cell_type": "code",
   "execution_count": 53,
   "id": "fc9a0f38-1915-4cf2-9a90-5c66109affc3",
   "metadata": {},
   "outputs": [
    {
     "data": {
      "text/plain": [
       "['Sub1', 'Sub2', 'Sub3']"
      ]
     },
     "execution_count": 53,
     "metadata": {},
     "output_type": "execute_result"
    }
   ],
   "source": [
    "data1[\"sub_list\"]"
   ]
  },
  {
   "cell_type": "code",
   "execution_count": 54,
   "id": "1d73a250-d910-45b2-8988-61927d8ca85c",
   "metadata": {},
   "outputs": [
    {
     "data": {
      "text/plain": [
       "'Sub2'"
      ]
     },
     "execution_count": 54,
     "metadata": {},
     "output_type": "execute_result"
    }
   ],
   "source": [
    "data1[\"sub_list\"][1]"
   ]
  },
  {
   "cell_type": "code",
   "execution_count": 55,
   "id": "9f1fd4ef-7d7a-4688-a633-21fefd776639",
   "metadata": {},
   "outputs": [],
   "source": [
    "#New File-type = CSV\n",
    "import csv\n",
    "data = [ [\"name\",\"email-id\",\"phone-num\"],\n",
    "        [\"Ishaan\",\"Ishaan@gmail.com\",123456789],\n",
    "        [\"Nikhil\",\"Nilkhil@gmail.com\",987654321]\n",
    "]"
   ]
  },
  {
   "cell_type": "code",
   "execution_count": 56,
   "id": "658824dc-b9f1-4f1a-9911-fe6418868a6b",
   "metadata": {},
   "outputs": [],
   "source": [
    "#Writing data into a csv file\n",
    "with open(\"data.csv\",\"w\") as f:\n",
    "    writer = csv.writer(f)\n",
    "    for i in data:\n",
    "        writer.writerow(i)"
   ]
  },
  {
   "cell_type": "code",
   "execution_count": 57,
   "id": "bacebd17-6386-411e-9a3f-e292d577e6c7",
   "metadata": {},
   "outputs": [
    {
     "name": "stdout",
     "output_type": "stream",
     "text": [
      "['name', 'email-id', 'phone-num']\n",
      "['Ishaan', 'Ishaan@gmail.com', '123456789']\n",
      "['Nikhil', 'Nilkhil@gmail.com', '987654321']\n"
     ]
    }
   ],
   "source": [
    "#Reading into a data file\n",
    "with open(\"data.csv\",\"r\") as f:\n",
    "    read_data = csv.reader(f)\n",
    "    for i in read_data:\n",
    "        print(i)"
   ]
  },
  {
   "cell_type": "code",
   "execution_count": 1,
   "id": "a4ba77a8-d38c-42fc-962d-86db49ff1a32",
   "metadata": {},
   "outputs": [],
   "source": [
    "#Writing a binary file \n",
    "with open(\"test.bin\",\"wb\") as f:\n",
    "    f.write(b\"\\x01\\x02\\x03\")"
   ]
  },
  {
   "cell_type": "code",
   "execution_count": 4,
   "id": "c7d6f5d7-f7db-439c-83e3-70db483c71d5",
   "metadata": {},
   "outputs": [
    {
     "name": "stdout",
     "output_type": "stream",
     "text": [
      "b'\\x01\\x02\\x03'\n"
     ]
    }
   ],
   "source": [
    "with open(\"test.bin\",\"rb\") as f:\n",
    "    print(f.read())"
   ]
  },
  {
   "cell_type": "code",
   "execution_count": 5,
   "id": "7059b636-f10c-4bee-8b5d-4b0dca8de713",
   "metadata": {},
   "outputs": [],
   "source": [
    "#Buffered Read And Write Other File Methods"
   ]
  },
  {
   "cell_type": "code",
   "execution_count": 8,
   "id": "75b97ad5-b3b8-4e37-9e36-50a88a7901c1",
   "metadata": {},
   "outputs": [],
   "source": [
    "import io\n",
    "with open(\"text1.txt\",\"wb\") as f:\n",
    "    file = io.BufferedWriter(f)\n",
    "    f.write(b\"This is my first line \\n\")\n",
    "    f.write(b\"This is my second line \\n\")\n",
    "    file.flush()"
   ]
  },
  {
   "cell_type": "code",
   "execution_count": 9,
   "id": "c0993e85-c836-4c2c-93f2-925a55ff7a45",
   "metadata": {},
   "outputs": [
    {
     "name": "stdout",
     "output_type": "stream",
     "text": [
      "b'This is my first line \\nThis is my second line \\n'\n"
     ]
    }
   ],
   "source": [
    "with open(\"text1.txt\",\"rb\") as f:\n",
    "    file = io.BufferedReader(f)\n",
    "    print(file.read())"
   ]
  },
  {
   "cell_type": "code",
   "execution_count": null,
   "id": "a8377e04-8fda-4376-8a8e-2c37eb357c27",
   "metadata": {},
   "outputs": [],
   "source": []
  }
 ],
 "metadata": {
  "kernelspec": {
   "display_name": "Python 3 (ipykernel)",
   "language": "python",
   "name": "python3"
  },
  "language_info": {
   "codemirror_mode": {
    "name": "ipython",
    "version": 3
   },
   "file_extension": ".py",
   "mimetype": "text/x-python",
   "name": "python",
   "nbconvert_exporter": "python",
   "pygments_lexer": "ipython3",
   "version": "3.10.8"
  }
 },
 "nbformat": 4,
 "nbformat_minor": 5
}
