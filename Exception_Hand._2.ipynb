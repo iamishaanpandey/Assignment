{
 "cells": [
  {
   "cell_type": "code",
   "execution_count": 1,
   "id": "f4914afc-59c4-4186-9a5e-bee5752d05b6",
   "metadata": {},
   "outputs": [],
   "source": [
    "#Exception class conatins all the directories of errors which generally occur while a program runs"
   ]
  },
  {
   "cell_type": "code",
   "execution_count": 2,
   "id": "b159e71b-3895-464b-9a35-ccdec2b5a8cd",
   "metadata": {},
   "outputs": [
    {
     "name": "stdout",
     "output_type": "stream",
     "text": [
      "unsupported operand type(s) for +: 'int' and 'str'\n"
     ]
    }
   ],
   "source": [
    "#Arithmetic error mostly contains error where operators like +,-,*,/ are used wrongly\n",
    "try:\n",
    "    123+\"Ishaan\"\n",
    "except ArithmeticError as e:\n",
    "    print(e)"
   ]
  },
  {
   "cell_type": "code",
   "execution_count": 3,
   "id": "15ea71ba-da80-4966-8961-6e67591dc0ed",
   "metadata": {},
   "outputs": [
    {
     "name": "stdout",
     "output_type": "stream",
     "text": [
      "'key2'\n"
     ]
    }
   ],
   "source": [
    "#If a particular attribute is  not found at the location defined by the user then an index error occurs \n",
    "#If a particular key in a dictionary is not found then the particular error is called key error\n",
    "#Lookup error is the superclass of key-error and index-error\n",
    "try:\n",
    "    d = {\"key1\":\"Ishaan\",\"1\":\"Nikhil\"}\n",
    "    print(d[\"key2\"])\n",
    "except KeyError as e:\n",
    "    print(e)\n"
   ]
  },
  {
   "cell_type": "code",
   "execution_count": 5,
   "id": "c6ef5cb1-5e8f-4d5b-8e70-194671b4df1b",
   "metadata": {},
   "outputs": [],
   "source": [
    "#iF a particular module is imported and it is not present then the error which occurs is module error"
   ]
  },
  {
   "cell_type": "code",
   "execution_count": 7,
   "id": "a0615150-4a46-465c-97c8-6d13bfb2de07",
   "metadata": {},
   "outputs": [],
   "source": [
    "#best practices for exception handling in python are:\n",
    "#1) use always a specific exception \n",
    "#2) Print always a proper message\n",
    "#3) Always log your error\n",
    "#4) Document all the error"
   ]
  },
  {
   "cell_type": "code",
   "execution_count": null,
   "id": "9975870f-2479-45d6-bfcc-ddc03b1d6bf4",
   "metadata": {},
   "outputs": [],
   "source": []
  }
 ],
 "metadata": {
  "kernelspec": {
   "display_name": "Python 3 (ipykernel)",
   "language": "python",
   "name": "python3"
  },
  "language_info": {
   "codemirror_mode": {
    "name": "ipython",
    "version": 3
   },
   "file_extension": ".py",
   "mimetype": "text/x-python",
   "name": "python",
   "nbconvert_exporter": "python",
   "pygments_lexer": "ipython3",
   "version": "3.10.8"
  }
 },
 "nbformat": 4,
 "nbformat_minor": 5
}
