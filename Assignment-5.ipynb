{
 "cells": [
  {
   "cell_type": "code",
   "execution_count": 2,
   "id": "f2c3abc2-f4a0-4d3d-b665-84b1f10bf652",
   "metadata": {},
   "outputs": [
    {
     "name": "stdout",
     "output_type": "stream",
     "text": [
      "This will give balance amount from hdfc bank account holder\n",
      "This is the name of the account-holder\n"
     ]
    }
   ],
   "source": [
    "#Abstraction is basically hiding the implementation part of the code to resolve the comlexity around the code\n",
    "#abc module which is abstract base classes module is used to defining these in python\n",
    "#Example for this is given below\n",
    "\n",
    "import abc\n",
    "class banking():\n",
    "    @abc.abstractmethod\n",
    "    def accountholder_name(self):\n",
    "        pass\n",
    "    @abc.abstractmethod\n",
    "    def balance_amount(self):\n",
    "        pass\n",
    "    @abc.abstractmethod\n",
    "    def transaction_amount(self):\n",
    "        pass\n",
    "\n",
    "class icici_bank:\n",
    "    def accountholder_name(self):\n",
    "        return \"This is the name of the account-holder\"\n",
    "    def balance_amount(self):\n",
    "        return \"This will give the balance amount for account-holder\"\n",
    "    def transaction_amount(self):\n",
    "        return \"This will give total transaction balance\"\n",
    "\n",
    "class hdfc_bank:\n",
    "    def accountholder_name(self):\n",
    "        return \"This is the account-holdername from hdfc bank\"\n",
    "    def balance_amount(self):\n",
    "        return \"This will give balance amount from hdfc bank account holder\"\n",
    "    def transaction_balance(self):\n",
    "        return \"This will give transaction balance from hdfc bank user\"\n",
    "    \n",
    "hdfc_bank_obj = hdfc_bank()\n",
    "icici_bank_obj = icici_bank()\n",
    "print(hdfc_bank_obj.balance_amount())\n",
    "print(icici_bank_obj.accountholder_name())"
   ]
  },
  {
   "cell_type": "code",
   "execution_count": 9,
   "id": "6ecdb809-4bfc-42e5-b982-a7832cc202ac",
   "metadata": {},
   "outputs": [
    {
     "name": "stdout",
     "output_type": "stream",
     "text": [
      "Ishaan\n",
      "90\n",
      "This will give balance amount from hdfc bank account holder\n",
      "This is the name of the account-holder\n"
     ]
    }
   ],
   "source": [
    "#Abstraction is hiding the details and implementation of the code. \n",
    "#Encapsulation is hiding the data and controlling the visibility of the code\n",
    "\n",
    "#example for encapsulation:\n",
    "class student_details:\n",
    "    def __init__(self,name,marks):\n",
    "        self.__name = name\n",
    "        self.__marks = marks\n",
    "    def get_name(self):\n",
    "        return self.__name\n",
    "    def get_marks(self):\n",
    "        return self.__marks\n",
    "Ishaan = student_details(\"Ishaan\",90)\n",
    "print(Ishaan.get_name())\n",
    "print(Ishaan.get_marks())\n",
    "\n",
    "#Example for abstraction\n",
    "import abc\n",
    "class banking():\n",
    "    @abc.abstractmethod\n",
    "    def accountholder_name(self):\n",
    "        pass\n",
    "    @abc.abstractmethod\n",
    "    def balance_amount(self):\n",
    "        pass\n",
    "    @abc.abstractmethod\n",
    "    def transaction_amount(self):\n",
    "        pass\n",
    "\n",
    "class icici_bank:\n",
    "    def accountholder_name(self):\n",
    "        return \"This is the name of the account-holder\"\n",
    "    def balance_amount(self):\n",
    "        return \"This will give the balance amount for account-holder\"\n",
    "    def transaction_amount(self):\n",
    "        return \"This will give total transaction balance\"\n",
    "\n",
    "class hdfc_bank:\n",
    "    def accountholder_name(self):\n",
    "        return \"This is the account-holdername from hdfc bank\"\n",
    "    def balance_amount(self):\n",
    "        return \"This will give balance amount from hdfc bank account holder\"\n",
    "    def transaction_balance(self):\n",
    "        return \"This will give transaction balance from hdfc bank user\"\n",
    "    \n",
    "hdfc_bank_obj = hdfc_bank()\n",
    "icici_bank_obj = icici_bank()\n",
    "print(hdfc_bank_obj.balance_amount())\n",
    "print(icici_bank_obj.accountholder_name())"
   ]
  },
  {
   "cell_type": "code",
   "execution_count": 10,
   "id": "0cf45653-3b0e-402a-a2e0-a5cdc1d0c6b8",
   "metadata": {},
   "outputs": [],
   "source": [
    "#abc module which is abstract base classes module is used to defining these in python"
   ]
  },
  {
   "cell_type": "code",
   "execution_count": null,
   "id": "e8c3554c-b061-49da-849e-f867420a492d",
   "metadata": {},
   "outputs": [],
   "source": [
    "#using the @abc.abstractmethod we can achieve the instance in python abstraction"
   ]
  }
 ],
 "metadata": {
  "kernelspec": {
   "display_name": "Python 3 (ipykernel)",
   "language": "python",
   "name": "python3"
  },
  "language_info": {
   "codemirror_mode": {
    "name": "ipython",
    "version": 3
   },
   "file_extension": ".py",
   "mimetype": "text/x-python",
   "name": "python",
   "nbconvert_exporter": "python",
   "pygments_lexer": "ipython3",
   "version": "3.10.8"
  }
 },
 "nbformat": 4,
 "nbformat_minor": 5
}
