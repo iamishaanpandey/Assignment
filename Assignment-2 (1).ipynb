{
 "cells": [
  {
   "cell_type": "code",
   "execution_count": 22,
   "id": "9d752f33-1240-4037-932e-b69bb938b8a0",
   "metadata": {},
   "outputs": [],
   "source": [
    "#Def keyword is used to create a function\n",
    "def main():\n",
    "    for i in range(1,26):\n",
    "        if i%2 != 0 :\n",
    "            print(i)"
   ]
  },
  {
   "cell_type": "code",
   "execution_count": 23,
   "id": "5e08db36-8400-478d-9e04-41e58c4a6212",
   "metadata": {},
   "outputs": [
    {
     "name": "stdout",
     "output_type": "stream",
     "text": [
      "1\n",
      "3\n",
      "5\n",
      "7\n",
      "9\n",
      "11\n",
      "13\n",
      "15\n",
      "17\n",
      "19\n",
      "21\n",
      "23\n",
      "25\n"
     ]
    }
   ],
   "source": [
    "main()"
   ]
  },
  {
   "cell_type": "code",
   "execution_count": 30,
   "id": "627812dd-730c-42ed-b130-3b764b4f7291",
   "metadata": {},
   "outputs": [],
   "source": [
    "# *args is a convention used to pass N number of arguments in a function\n",
    "def test(*args):\n",
    "    return args\n",
    "# **kwargs is a convention used to pass argument in a key-value pair manner\n",
    "def test1(**kwargs):\n",
    "    return kwargs"
   ]
  },
  {
   "cell_type": "code",
   "execution_count": 32,
   "id": "e241918f-2606-4c37-a94c-3b4affcabde7",
   "metadata": {},
   "outputs": [
    {
     "data": {
      "text/plain": [
       "(1, 2, 3, 4, 5)"
      ]
     },
     "execution_count": 32,
     "metadata": {},
     "output_type": "execute_result"
    }
   ],
   "source": [
    "test(1,2,3,4,5)\n"
   ]
  },
  {
   "cell_type": "code",
   "execution_count": 33,
   "id": "08305b79-b4a1-4563-89c1-fecfc126b50b",
   "metadata": {},
   "outputs": [
    {
     "data": {
      "text/plain": [
       "{'a': [1, 2, 3], 'b': 1, 'c': 1.6}"
      ]
     },
     "execution_count": 33,
     "metadata": {},
     "output_type": "execute_result"
    }
   ],
   "source": [
    "test1(a = [1,2,3] , b=1, c = 1.6)"
   ]
  },
  {
   "cell_type": "code",
   "execution_count": 36,
   "id": "ee2d7b12-e004-48e3-a736-2072d365b389",
   "metadata": {},
   "outputs": [
    {
     "name": "stdout",
     "output_type": "stream",
     "text": [
      "2\n",
      "4\n",
      "6\n",
      "8\n",
      "10\n",
      "12\n"
     ]
    }
   ],
   "source": [
    "#Iterrators allows efficient access to a element one at a time in a sequence\n",
    "l = [2, 4, 6, 8, 10, 12, 14,16, 18, 20]\n",
    "for i in range(0,6):\n",
    "    print(l[i])"
   ]
  },
  {
   "cell_type": "code",
   "execution_count": 37,
   "id": "9587e5e0-6f3f-41ac-b97e-3ff240b2bc5d",
   "metadata": {},
   "outputs": [],
   "source": [
    "#Generator function in a python generates sequence of values and yield statement is used to return values one at a time"
   ]
  },
  {
   "cell_type": "code",
   "execution_count": 1,
   "id": "59e2552b-5ab0-43d5-9a09-12698f88df83",
   "metadata": {},
   "outputs": [
    {
     "name": "stdout",
     "output_type": "stream",
     "text": [
      "1\n",
      "1\n",
      "2\n",
      "3\n",
      "5\n"
     ]
    }
   ],
   "source": [
    "# fibbonacci sequence\n",
    "i = 1\n",
    "a,b = 0,1\n",
    "while(i<6):\n",
    "    print(a)\n",
    "    a,b=b,a+b\n",
    "    i=i+1"
   ]
  },
  {
   "cell_type": "code",
   "execution_count": 50,
   "id": "75667a58-ca8c-495c-bbef-d82657b503e7",
   "metadata": {},
   "outputs": [
    {
     "name": "stdout",
     "output_type": "stream",
     "text": [
      "['p', 'w', 's', 'k', 'i', 'l', 'l', 's']\n"
     ]
    }
   ],
   "source": [
    "s = \"pwskills\"\n",
    "l=[]\n",
    "for ch in s:\n",
    "    l.append(ch)\n",
    "print(l)"
   ]
  },
  {
   "cell_type": "code",
   "execution_count": 4,
   "id": "f4406a88-fa9c-4a0f-a463-0c66e318a774",
   "metadata": {},
   "outputs": [
    {
     "name": "stdout",
     "output_type": "stream",
     "text": [
      "[1, 3, 5, 7, 9, 11, 13, 15, 17, 19, 21, 23, 25, 27, 29, 31, 33, 35, 37, 39, 41, 43, 45, 47, 49, 51, 53, 55, 57, 59, 61, 63, 65, 67, 69, 71, 73, 75, 77, 79, 81, 83, 85, 87, 89, 91, 93, 95, 97, 99]\n"
     ]
    }
   ],
   "source": [
    "#print odd numbers from 1 to 100 using list comprehension\n",
    "l=[]\n",
    "for i in range(1,101):\n",
    "    l.append(i)\n",
    "l = [i for i in l if i%2!=0]\n",
    "print(l)"
   ]
  },
  {
   "cell_type": "code",
   "execution_count": 18,
   "id": "13d646f3-dbfe-46bf-a7f2-83e892d3a882",
   "metadata": {},
   "outputs": [
    {
     "name": "stdin",
     "output_type": "stream",
     "text": [
      "Enter a string ishaan\n"
     ]
    },
    {
     "name": "stdout",
     "output_type": "stream",
     "text": [
      "Given string isn't a palindrome\n"
     ]
    }
   ],
   "source": [
    "#palindrome function\n",
    "s = input(\"Enter a string\")\n",
    "i = 0\n",
    "while(i<len(s)):\n",
    "    s1 = s[::-1]\n",
    "    if(s1 == s):\n",
    "        print(\"Given string is a palindrome\")\n",
    "        break\n",
    "    else:\n",
    "        print(\"Given string isn't a palindrome\")\n",
    "        break\n",
    "    i = i+1"
   ]
  },
  {
   "cell_type": "code",
   "execution_count": null,
   "id": "5abb68f0-2f81-4504-878f-63dc8d6da14d",
   "metadata": {},
   "outputs": [],
   "source": []
  }
 ],
 "metadata": {
  "kernelspec": {
   "display_name": "Python 3 (ipykernel)",
   "language": "python",
   "name": "python3"
  },
  "language_info": {
   "codemirror_mode": {
    "name": "ipython",
    "version": 3
   },
   "file_extension": ".py",
   "mimetype": "text/x-python",
   "name": "python",
   "nbconvert_exporter": "python",
   "pygments_lexer": "ipython3",
   "version": "3.10.8"
  }
 },
 "nbformat": 4,
 "nbformat_minor": 5
}
