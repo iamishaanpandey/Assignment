{
 "cells": [
  {
   "cell_type": "code",
   "execution_count": 14,
   "id": "67f40988-6fd1-45ee-a700-851b68ffbb4a",
   "metadata": {},
   "outputs": [
    {
     "name": "stdout",
     "output_type": "stream",
     "text": [
      "1\n",
      "4\n",
      "9\n",
      "16\n",
      "25\n",
      "36\n",
      "49\n",
      "64\n",
      "81\n",
      "100\n",
      "121\n",
      "144\n",
      "169\n",
      "196\n",
      "225\n",
      "256\n",
      "289\n",
      "324\n",
      "361\n",
      "1\n",
      "4\n",
      "9\n",
      "16\n",
      "25\n",
      "36\n",
      "49\n",
      "64\n",
      "81\n",
      "100\n",
      "121\n",
      "144\n",
      "169\n",
      "196\n",
      "225\n",
      "256\n",
      "289\n",
      "324\n",
      "361\n",
      "400\n"
     ]
    }
   ],
   "source": [
    "#For loop is used when number of iterations is known and while is used when number of iterations is unknown \n",
    "#Example of WHILE LOOP\n",
    "i = 1\n",
    "while (i<20):\n",
    "    print(i**2)\n",
    "    i=i+1\n",
    "#Example of FOR LOOP\n",
    "for i in range(1,21):\n",
    "    print(i**2)"
   ]
  },
  {
   "cell_type": "code",
   "execution_count": 6,
   "id": "2add438b-4108-43cf-98f6-e3dd42ee48d4",
   "metadata": {},
   "outputs": [
    {
     "name": "stdout",
     "output_type": "stream",
     "text": [
      "55\n",
      "3628800\n",
      "55\n",
      "3628800\n"
     ]
    }
   ],
   "source": [
    "#Using for loop\n",
    "sum1=0\n",
    "i=1\n",
    "product = 1\n",
    "for i in range(1,11):\n",
    "    sum1 = sum1+i\n",
    "    product = product*i\n",
    "print(sum1)\n",
    "print(product)\n",
    "\n",
    "#Using while loop\n",
    "sum2=0\n",
    "product1=1\n",
    "i=1\n",
    "while(i<11):\n",
    "    sum2 = sum2 +i\n",
    "    product1 = product1*i\n",
    "    i=i+1\n",
    "print(sum2)\n",
    "print(product1)\n"
   ]
  },
  {
   "cell_type": "code",
   "execution_count": 13,
   "id": "43906f43-07e4-4ca6-8fbe-bd7452a93df5",
   "metadata": {},
   "outputs": [
    {
     "name": "stdin",
     "output_type": "stream",
     "text": [
      "Enter the Units of electricity consumed 310\n"
     ]
    },
    {
     "name": "stdout",
     "output_type": "stream",
     "text": [
      "Your Bill is :  2250.0 Rs\n"
     ]
    }
   ],
   "source": [
    "n = int(input(\"Enter the Units of electricity consumed\"))\n",
    "if (n<100):\n",
    "    print(\"Your Bill is : \", n*4.5 ,\"Rs\")\n",
    "elif(n>100 and n<200):\n",
    "    print(\"Your Bill is : \",100*4.5+(200-n)*6, \"Rs\")\n",
    "elif(n>200 and n<300):\n",
    "    print(\"Your Bill is : \",100*4.5+100*6+(300-n)*10, \"Rs\")\n",
    "elif (n>300):\n",
    "    print(\"Your Bill is : \",100*4.5+100*6+100*10-(300-n)*20, \"Rs\")\n",
    "else:\n",
    "    print(\"please enter a valid unit number\")"
   ]
  },
  {
   "cell_type": "code",
   "execution_count": 29,
   "id": "801dc3c5-bdb3-430b-b6c1-965d45ac5a9a",
   "metadata": {},
   "outputs": [
    {
     "name": "stdout",
     "output_type": "stream",
     "text": [
      "[1, 8, 27, 64, 125, 216, 343, 512, 729, 1000, 1331, 1728, 2197, 2744, 3375, 4096, 4913, 5832, 6859, 8000, 9261, 10648, 12167, 13824, 15625, 17576, 19683, 21952, 24389, 27000, 29791, 32768, 35937, 39304, 42875, 46656, 50653, 54872, 59319, 64000, 68921, 74088, 79507, 85184, 91125, 97336, 103823, 110592, 117649, 125000, 132651, 140608, 148877, 157464, 166375, 175616, 185193, 195112, 205379, 216000, 226981, 238328, 250047, 262144, 274625, 287496, 300763, 314432, 328509, 343000, 357911, 373248, 389017, 405224, 421875, 438976, 456533, 474552, 493039, 512000, 531441, 551368, 571787, 592704, 614125, 636056, 658503, 681472, 704969, 729000, 753571, 778688, 804357, 830584, 857375, 884736, 912673, 941192, 970299, 1000000]\n",
      "[1, 8, 27, 64, 125, 216, 343, 512, 729, 1000, 1331, 1728, 2197, 2744, 3375, 4096, 4913, 5832, 6859, 8000, 9261, 10648, 12167, 13824, 15625, 17576, 19683, 21952, 24389, 27000, 29791, 32768, 35937, 39304, 42875, 46656, 50653, 54872, 59319, 64000, 68921, 74088, 79507, 85184, 91125, 97336, 103823, 110592, 117649, 125000, 132651, 140608, 148877, 157464, 166375, 175616, 185193, 195112, 205379, 216000, 226981, 238328, 250047, 262144, 274625, 287496, 300763, 314432, 328509, 343000, 357911, 373248, 389017, 405224, 421875, 438976, 456533, 474552, 493039, 512000, 531441, 551368, 571787, 592704, 614125, 636056, 658503, 681472, 704969, 729000, 753571, 778688, 804357, 830584, 857375, 884736, 912673, 941192, 970299, 1000000]\n",
      "[8, 64, 125, 216, 512, 1000, 1728, 2744, 3375, 4096, 5832, 8000, 10648, 13824, 15625, 17576, 21952, 27000, 32768, 39304, 42875, 46656, 54872, 64000, 74088, 85184, 91125, 97336, 110592, 125000, 140608, 157464, 166375, 175616, 195112, 216000, 238328, 262144, 274625, 287496, 314432, 343000, 373248, 405224, 421875, 438976, 474552, 512000, 551368, 592704, 614125, 636056, 681472, 729000, 778688, 830584, 857375, 884736, 941192, 1000000]\n"
     ]
    }
   ],
   "source": [
    "l=[]\n",
    "l1=[]\n",
    "#Using for loop\n",
    "for i in range(1,101):\n",
    "    i = i**3\n",
    "    l.append(i)\n",
    "print(l)\n",
    "#using while loop\n",
    "while i<101:\n",
    "    i = i**3\n",
    "    i=i+1\n",
    "    l.append(i)\n",
    "print(l)\n",
    "#printing cubes divisible by 4 or 5 in a list\n",
    "for i in range(len(l)):\n",
    "    if(l[i]%4==0 or l[i]%5==0):\n",
    "        l1.append(l[i])\n",
    "print(l1)"
   ]
  },
  {
   "cell_type": "code",
   "execution_count": 32,
   "id": "e5dda323-68cd-4dcd-bc20-71bf5a4252f1",
   "metadata": {},
   "outputs": [
    {
     "name": "stdout",
     "output_type": "stream",
     "text": [
      "11\n"
     ]
    }
   ],
   "source": [
    "string = \"I want to become a data scientist\"\n",
    "count = 0\n",
    "for i in string:\n",
    "    if (i==\"a\" or i==\"e\" or i==\"i\" or i==\"o\" or i==\"u\" or i==\"A\" or i==\"E\" or i==\"i\" or i==\"o\" or i==\"u\"):\n",
    "        count = count+1\n",
    "print(count)"
   ]
  },
  {
   "cell_type": "code",
   "execution_count": null,
   "id": "f58f548d-2d97-4ea7-b400-55dc00fa7154",
   "metadata": {},
   "outputs": [],
   "source": []
  }
 ],
 "metadata": {
  "kernelspec": {
   "display_name": "Python 3 (ipykernel)",
   "language": "python",
   "name": "python3"
  },
  "language_info": {
   "codemirror_mode": {
    "name": "ipython",
    "version": 3
   },
   "file_extension": ".py",
   "mimetype": "text/x-python",
   "name": "python",
   "nbconvert_exporter": "python",
   "pygments_lexer": "ipython3",
   "version": "3.10.8"
  }
 },
 "nbformat": 4,
 "nbformat_minor": 5
}
