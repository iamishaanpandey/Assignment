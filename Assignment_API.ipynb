{
 "cells": [
  {
   "cell_type": "code",
   "execution_count": null,
   "id": "345b3e6f-e644-4798-845a-9ea1a7029328",
   "metadata": {},
   "outputs": [],
   "source": [
    "#API - Application programming interface\n",
    "#Defines how the two communicate with each other using requests and responses.\n",
    "#Difference between API and WEB-API\n",
    "    #API is the way the user interacts with the system.\n",
    "    #Contains TCP/IP Protocol\n",
    "    #WEB-API is the way the system interacts with the user. It is a subset of API\n",
    "    #Contains Http protocol. example - Gmail application, Google \n",
    "#Rest(Representational state transfer) and SOAP Architecture\n",
    "#Rest - Uses HTTPS - communicated using put,get,post,delete. It is simple,scalable,flexibility, heavy weighted\n",
    "#SOAP - Uses XML messaging protocol, WSDL language(Web Services Description Language), Supports HTTPS,SMTP,TCP/IP protocol. \n",
    "        #Complex in terms of implementation . It is stateless, layered and can also cache it. It is light weighted.\n",
    "        #Used in high-security data uses\n",
    "#RESTful services are based on following services:\n",
    "    #Client-Server architecture - client and server are seperated allowing them to evolve independently \n",
    "    #Stateless - Each request sent to the server contains all the information needed to complete the request. The server does not maintin any client context between requests\n",
    "    #Cacheable - responses from the cached to improve the performance \n",
    "    #Uniform interface - RESTful services  use a uniform interface, HTTP verbs\n",
    "    #Layered system - RESTful services can be improves by introducing multiple layers\n"
   ]
  }
 ],
 "metadata": {
  "kernelspec": {
   "display_name": "Python 3 (ipykernel)",
   "language": "python",
   "name": "python3"
  },
  "language_info": {
   "codemirror_mode": {
    "name": "ipython",
    "version": 3
   },
   "file_extension": ".py",
   "mimetype": "text/x-python",
   "name": "python",
   "nbconvert_exporter": "python",
   "pygments_lexer": "ipython3",
   "version": "3.10.8"
  }
 },
 "nbformat": 4,
 "nbformat_minor": 5
}
