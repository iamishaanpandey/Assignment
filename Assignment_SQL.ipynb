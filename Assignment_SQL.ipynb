{
 "cells": [
  {
   "cell_type": "code",
   "execution_count": 1,
   "id": "f3d5813a-142f-4dbb-b950-ca72331279b5",
   "metadata": {},
   "outputs": [],
   "source": [
    "#A database is an organized collection of structured information. The basic difference between a SQL and a NOSQL databse is\n",
    "#1) Most SQL databases have similar syntaxes whereas every NOSQL database has its own language\n",
    "#2) SQL can only store structured data whereas NOSQL can store any type of data whether stuctured or unstructured.\n",
    "#3) Examples of MYSQL databases - MYSQL,MSSQL and  Examples of NOSQL databases - MomgoDB, Cassandra"
   ]
  },
  {
   "cell_type": "code",
   "execution_count": 2,
   "id": "eac6ef9f-9431-4c93-946b-1de989bf1715",
   "metadata": {},
   "outputs": [],
   "source": [
    "# DDL refers to data definition language which is used to define the basic structure of the database\n",
    "# CREATE - is used to create a database\n",
    "# DROP - is used to delete a database\n",
    "# ALTER - is used to alter the structure of table\n",
    "# TRUNCATE - is used to modify the storage elements of the table"
   ]
  },
  {
   "cell_type": "code",
   "execution_count": 3,
   "id": "e3e7d5a6-30e9-4b56-9d58-cdbb0fd5ba70",
   "metadata": {},
   "outputs": [],
   "source": [
    "# DML refers to data manipulation language which is used to manipulate the data stored in the table\n",
    "# INSERT - is used to insert a new data in a table\n",
    "# UPDATE - is used to replace the existing data with a new data\n",
    "# DELETE - is used to delete the existing data in the table"
   ]
  },
  {
   "cell_type": "code",
   "execution_count": 4,
   "id": "87f9adc4-b123-43e7-bd8b-bf3624b19ba4",
   "metadata": {},
   "outputs": [],
   "source": [
    "#DQL refers to data query language which is Data query language which gives results on the basis of the querty which is put up \n",
    "#SELECT - is used to select the columns for which we want the data to be displayed "
   ]
  },
  {
   "cell_type": "code",
   "execution_count": 5,
   "id": "8e54dcf6-c253-4e6a-becd-82fc2038e15d",
   "metadata": {},
   "outputs": [],
   "source": [
    "#Primary key is the column which uniquely identifies a table and cannot be changed and a primary key present in another table is called a FOREIGN KEY"
   ]
  },
  {
   "cell_type": "code",
   "execution_count": 8,
   "id": "002e9a2f-56e4-4bb4-b0dc-8168f86cd479",
   "metadata": {},
   "outputs": [],
   "source": [
    "# import mysql.connector\n",
    "# mydb = mysql.connector.connect(\n",
    "#   host=\"localhost\",\n",
    "#   user=\"abc\",\n",
    "#   password=\"password\"\n",
    "# )\n",
    "# mycursor = mydb.cursor()\n",
    "#Execute is used to perform a particular action in the SQL "
   ]
  },
  {
   "cell_type": "code",
   "execution_count": null,
   "id": "e2226861-5e18-4c45-a6ec-fc0b8e4363d4",
   "metadata": {},
   "outputs": [],
   "source": [
    "# import mysql.connector\n",
    "# mydb = mysql.connector.connect(\n",
    "#   host=\"localhost\",\n",
    "#   user=\"abc\",\n",
    "#   password=\"password\"\n",
    "# )\n",
    "# mycursor = mydb.cursor()\n",
    "# # mycursor.execute(\"select * from test2.test_table\")\n",
    "# mycursor.execute(\"select c1,c5 from test2.test_table\")\n",
    "# for i in mycursor.fetchall():\n",
    "#     print(i)\n",
    "# mydb.close()"
   ]
  }
 ],
 "metadata": {
  "kernelspec": {
   "display_name": "Python 3 (ipykernel)",
   "language": "python",
   "name": "python3"
  },
  "language_info": {
   "codemirror_mode": {
    "name": "ipython",
    "version": 3
   },
   "file_extension": ".py",
   "mimetype": "text/x-python",
   "name": "python",
   "nbconvert_exporter": "python",
   "pygments_lexer": "ipython3",
   "version": "3.10.8"
  }
 },
 "nbformat": 4,
 "nbformat_minor": 5
}
