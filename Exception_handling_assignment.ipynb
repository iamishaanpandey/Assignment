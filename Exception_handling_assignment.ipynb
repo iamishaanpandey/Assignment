{
 "cells": [
  {
   "cell_type": "code",
   "execution_count": 1,
   "id": "37ae6a5f-c594-4a8a-ad17-0e0d235b3bdb",
   "metadata": {},
   "outputs": [],
   "source": [
    "#Eexceptions are instances where there are chances of the code malfunctioning.\n",
    "#Errors are the problems in a program due to which the program will stop the execution. \n",
    "#E#xceptions are raised when some internal events occur which changes the normal flow of the program. "
   ]
  },
  {
   "cell_type": "code",
   "execution_count": 2,
   "id": "b4eefbbd-3de7-47b7-88c9-b4f584bcbaf0",
   "metadata": {},
   "outputs": [],
   "source": [
    "#When exceptions are aren't handled there are chances of bigger chances of code breakeage"
   ]
  },
  {
   "cell_type": "code",
   "execution_count": 3,
   "id": "4a7a74f9-1fb9-44fe-a109-b7342e1a6168",
   "metadata": {},
   "outputs": [
    {
     "name": "stdout",
     "output_type": "stream",
     "text": [
      "This will be executed once the try block is executed\n"
     ]
    }
   ],
   "source": [
    "#try,except,else and finally statements are used to catch exceptions\n",
    "try:\n",
    "    f = open(\"texting.txt\",\"w\")\n",
    "    f.write(\"This is my file\")\n",
    "except Exception as e:              \n",
    "    print(\"this is my print\")\n",
    "else:                            #Else block only runs if try condition is satisfied\n",
    "    f.close()\n",
    "    print(\"This will be executed once the try block is executed\")"
   ]
  },
  {
   "cell_type": "code",
   "execution_count": null,
   "id": "f6bc5c2c-c79d-4177-83f1-e1d0707ac2f4",
   "metadata": {},
   "outputs": [],
   "source": [
    "try:\n",
    "    f = open(\"texting.txt\",\"w\")\n",
    "    f.write(\"This is my file1\")\n",
    "except Exception as e:              \n",
    "    print(\"this is my print\")\n",
    "finally:                       \n",
    "    print(\"Finally will execute itself in any situation\")\n",
    "    \n",
    "#Raise\n",
    "class validateage(Exception):\n",
    "    def __init__(self, msg):\n",
    "        self.msg = msg\n",
    "def validateage(age):\n",
    "    if age<0 :\n",
    "        raise validateage(\"Entered age is negative\")\n",
    "    elif age>200:\n",
    "        raise validateage(\"Entered age is very very high\") \n",
    "    else:\n",
    "        print(\"Age is valid\")\n",
    "\n",
    "try:\n",
    "    age = int(input(\"enter your age\"))\n",
    "    validateage(age)\n",
    "except validateage as e:\n",
    "    print(e)"
   ]
  },
  {
   "cell_type": "code",
   "execution_count": null,
   "id": "689734e9-5652-4ed5-a140-899a8d4eb4be",
   "metadata": {},
   "outputs": [],
   "source": [
    "#Custom exceptions are user defined exceptions which are apart from the given preset of functions\n",
    "class validateage(Exception):\n",
    "    def __init__(self, msg):\n",
    "        self.msg = msg\n",
    "def validateage(age):\n",
    "    if age<0 :\n",
    "        raise validateage(\"Entered age is negative\")\n",
    "    elif age>200:\n",
    "        raise validateage(\"Entered age is very very high\") \n",
    "    else:\n",
    "        print(\"Age is valid\")\n",
    "\n",
    "try:\n",
    "    age = int(input(\"enter your age\"))\n",
    "    validateage(age)\n",
    "except validateage as e:\n",
    "    print(e)"
   ]
  },
  {
   "cell_type": "code",
   "execution_count": null,
   "id": "754f230d-8e72-437d-8133-2e44cf9d7b13",
   "metadata": {},
   "outputs": [],
   "source": []
  }
 ],
 "metadata": {
  "kernelspec": {
   "display_name": "Python 3 (ipykernel)",
   "language": "python",
   "name": "python3"
  },
  "language_info": {
   "codemirror_mode": {
    "name": "ipython",
    "version": 3
   },
   "file_extension": ".py",
   "mimetype": "text/x-python",
   "name": "python",
   "nbconvert_exporter": "python",
   "pygments_lexer": "ipython3",
   "version": "3.10.8"
  }
 },
 "nbformat": 4,
 "nbformat_minor": 5
}
